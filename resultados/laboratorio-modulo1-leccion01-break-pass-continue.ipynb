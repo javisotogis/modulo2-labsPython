{
 "cells": [
  {
   "cell_type": "markdown",
   "metadata": {},
   "source": [
    "\n",
    "<div style=\"text-align: center;\">\n",
    "  <img src=\"https://github.com/Hack-io-Data/Imagenes/blob/main/01-LogosHackio/logo_celeste@4x.png?raw=true\" alt=\"esquema\" />\n",
    "</div>\n"
   ]
  },
  {
   "cell_type": "markdown",
   "metadata": {},
   "source": [
    "# Laboratorio de Python: break(), pass(), continue()"
   ]
  },
  {
   "cell_type": "markdown",
   "metadata": {},
   "source": [
    "## Ejercicio 1: Validación de datos numéricos. \n",
    "\n",
    "Escribe un bucle que lea una lista de números y detenga la ejecución si encuentra un valor negativo. Muestra un mensaje indicando el número negativo encontrado.\n"
   ]
  },
  {
   "cell_type": "code",
   "execution_count": 113,
   "metadata": {},
   "outputs": [
    {
     "name": "stdout",
     "output_type": "stream",
     "text": [
      "Ojo! Me detengo porque he encontrado un numero negativo: -5\n"
     ]
    }
   ],
   "source": [
    "import numpy as np\n",
    "lista = np.random.randint(-10, 100, (10))\n",
    "for l in lista:\n",
    "    if l  < 0:\n",
    "        print(f\"Ojo! Me detengo porque he encontrado un numero negativo: {l}\")\n",
    "        break\n"
   ]
  },
  {
   "cell_type": "markdown",
   "metadata": {},
   "source": [
    "\n",
    "## Ejercicio 2: Filtrado de datos\n",
    "\n",
    "Escribe un bucle que imprima los números de una lista, pero que omita los números pares.\n"
   ]
  },
  {
   "cell_type": "code",
   "execution_count": null,
   "metadata": {},
   "outputs": [
    {
     "name": "stdout",
     "output_type": "stream",
     "text": [
      "47 es inpar.\n",
      "75 es inpar.\n",
      "73 es inpar.\n",
      "67 es inpar.\n",
      "17 es inpar.\n",
      "45 es inpar.\n"
     ]
    }
   ],
   "source": [
    "import numpy as np\n",
    "lista = np.random.randint(0, 100, (10))\n",
    "for n in lista:\n",
    "    if n % 2 != 0:\n",
    "        print(f\"{n} es inpar.\")\n",
    "        "
   ]
  },
  {
   "cell_type": "markdown",
   "metadata": {},
   "source": [
    "## Ejercicio 3: Búsqueda de un valor\n",
    "\n",
    "Escribe un programa que busque un valor específico en una lista y detenga la búsqueda cuando lo encuentre. Si se encuentra, muestra un mensaje.\n"
   ]
  },
  {
   "cell_type": "code",
   "execution_count": 203,
   "metadata": {},
   "outputs": [
    {
     "name": "stdout",
     "output_type": "stream",
     "text": [
      "3\n",
      "8\n",
      "2\n",
      "Me detengo!!!! Ya que 2 es igual que el numero aleatorio que definimos [2].\n"
     ]
    }
   ],
   "source": [
    "# este programa crea una lista aleatoria, define un numero aleatorio y si lo encuentra, se detiene el loop.\n",
    "import numpy as np\n",
    "lista = np.random.randint(0, 10, (9))\n",
    "numero_aleatorio = np.random.randint(0, 10, (1))\n",
    "#print(numero_aleatorio)\n",
    "for n in lista:\n",
    "    print(n)\n",
    "    if n == numero_aleatorio:\n",
    "        print(f\"Me detengo!!!! Ya que {n} es igual que el numero aleatorio que definimos {numero_aleatorio}.\")\n",
    "        break"
   ]
  },
  {
   "cell_type": "markdown",
   "metadata": {},
   "source": [
    "## Ejercicio 4: Estructura de código incompleto\n",
    "\n",
    "Define una función que aún no tenga lógica implementada, pero que se pueda ejecutar sin errores utilizando `pass`."
   ]
  },
  {
   "cell_type": "code",
   "execution_count": 206,
   "metadata": {},
   "outputs": [],
   "source": [
    "def esta_funcion_no_hace_una_mierda():\n",
    "    pass\n",
    "\n",
    "esta_funcion_no_hace_una_mierda()"
   ]
  },
  {
   "cell_type": "markdown",
   "metadata": {},
   "source": [
    "## Ejercicio 5: Validación condicional\n",
    "\n",
    "Escribe un bucle que verifique una lista de nombres. Si encuentra un nombre vacío (cadena vacía), salta esa iteración y continúa con los demás nombres.\n"
   ]
  },
  {
   "cell_type": "code",
   "execution_count": null,
   "metadata": {},
   "outputs": [
    {
     "name": "stdout",
     "output_type": "stream",
     "text": [
      "Fulano\n",
      "Hay un espacio vacio \n"
     ]
    }
   ],
   "source": [
    "lista_nombres = [\"Fulano\",\"\",\"Mengano\",\"Jaimito\"]\n",
    "\n",
    "for n in lista_nombres:\n",
    "    if len(n) != 0:\n",
    "        print(n)\n",
    "        continue  # el continue aqui no hace nada, pero no entiendo bien para que necesito un pass o un continue aqui\n",
    "    #if len(n) == 0:\n",
    "    #    print(f\"Hay un espacio vacio {n}\")\n",
    "    #    break\n",
    "\n",
    "        \n",
    "\n"
   ]
  },
  {
   "cell_type": "markdown",
   "metadata": {},
   "source": [
    "## Ejercicio 6: Búsqueda de claves en un diccionario\n",
    "\n",
    "Escribe un programa que recorra un diccionario y detenga la búsqueda si encuentra una clave específica pasada por el usuario.\n"
   ]
  },
  {
   "cell_type": "code",
   "execution_count": 229,
   "metadata": {},
   "outputs": [
    {
     "name": "stdout",
     "output_type": "stream",
     "text": [
      "Aun no he encontrado la clave cactus_volador. Voy por la posicion 1\n",
      "Aun no he encontrado la clave cactus_volador. Voy por la posicion 2\n",
      "Aun no he encontrado la clave cactus_volador. Voy por la posicion 3\n",
      "Aun no he encontrado la clave cactus_volador. Voy por la posicion 4\n",
      "Aun no he encontrado la clave cactus_volador. Voy por la posicion 5\n",
      "Aun no he encontrado la clave cactus_volador. Voy por la posicion 6\n",
      "Aun no he encontrado la clave cactus_volador. Voy por la posicion 7\n",
      "Aun no he encontrado la clave cactus_volador. Voy por la posicion 8\n",
      "He encontrado la clave cactus_volador en la posicion 9. Me detengo\n"
     ]
    }
   ],
   "source": [
    "diccionario = {\n",
    "    \"arcoiris_cuántico\": \"Colorín colorado\",\n",
    "    \"42_hamsters_bailarines\": \"Ritmo infinito\",\n",
    "    \"pingüino_tostadora\": \"Pan crujiente\",\n",
    "    \"hipopótamo_enojado\": \"Río revuelto\",\n",
    "    \"nube_de_tocino\": \"Cielo delicioso\",\n",
    "    \"dragón_que_habla_morse\": \"... --- ...\",\n",
    "    \"patito_espacial\": \"Cuack intergaláctico\",\n",
    "    \"wifi_invisible\": \"Señal fantasma\",\n",
    "    \"cactus_volador\": \"Desierto aéreo\",\n",
    "    \"donut_viajero_en_el_tiempo\": \"Azúcar del futuro\"\n",
    "}\n",
    "\n",
    "clave = \"cactus_volador\"\n",
    "n = 0\n",
    "\n",
    "for k in diccionario:\n",
    "    n += 1\n",
    "    if clave not in k:\n",
    "        print(f\"Aun no he encontrado la clave {clave}. Voy por la posicion {n}\")\n",
    "        continue \n",
    "    if clave in k:\n",
    "        print(f\"He encontrado la clave {clave} en la posicion {n}. Me detengo\")\n",
    "        break\n",
    "pass\n",
    "\n",
    "\n"
   ]
  },
  {
   "cell_type": "markdown",
   "metadata": {},
   "source": [
    "## Ejercicio 7: Bucle con múltiples excepciones\n",
    "\n",
    "Escribe un bucle que procese una lista de operaciones matemáticas, omitiendo las operaciones que intenten dividir por cero.\n"
   ]
  },
  {
   "cell_type": "code",
   "execution_count": 36,
   "metadata": {},
   "outputs": [
    {
     "name": "stdout",
     "output_type": "stream",
     "text": [
      "-0.5\n",
      "1.6666666666666667\n",
      "-6.0\n",
      "-9.0\n",
      "0.4\n",
      "-0.3\n",
      "-0.6\n",
      "-0.875\n",
      "-0.6\n",
      "-2.5\n"
     ]
    }
   ],
   "source": [
    "import numpy as np\n",
    "\n",
    "lista_numerador = np.random.randint(-10, 10, (10))\n",
    "lista_denominador = np.random.randint(-10, 10, (10))\n",
    "\n",
    "for n, d in zip(lista_numerador, lista_denominador):\n",
    "    if d == 0:\n",
    "        pass\n",
    "    else:\n",
    "        print(n/d)"
   ]
  },
  {
   "cell_type": "markdown",
   "metadata": {},
   "source": [
    "## Ejercicio 8: Búsqueda en una lista anidada\n",
    "\n",
    "Escribe un programa que recorra una lista de listas y detenga la búsqueda cuando encuentre un valor mayor a 50.\n"
   ]
  },
  {
   "cell_type": "code",
   "execution_count": null,
   "metadata": {},
   "outputs": [
    {
     "name": "stdout",
     "output_type": "stream",
     "text": [
      "1\n",
      "22\n",
      "10\n",
      "45\n",
      "48\n",
      "55\n",
      "Me detengo!!!! Ya que 55 es mayor que el numero que definimos 50.\n"
     ]
    }
   ],
   "source": [
    "# Usando el return the una funcion\n",
    "lista_de_listas = [[1, 22, 10, 45, 48], [55, 59, 57, 54, 43], [54, 40, 57, 49, 52]]\n",
    "numero_mayor = 50\n",
    "def busqueda_lista_anidada(listas, valor):\n",
    "\n",
    "    for lista in listas:\n",
    "        for n in lista:\n",
    "            print(n)\n",
    "            if n > valor:\n",
    "                print(f\"Me detengo!!!! Ya que {n} es mayor que el numero que definimos {valor}.\")\n",
    "                return\n",
    "\n",
    "busqueda_lista_anidada(lista_de_listas, numero_mayor)\n",
    "\n",
    "\n",
    "\n",
    "\n"
   ]
  },
  {
   "cell_type": "code",
   "execution_count": null,
   "metadata": {},
   "outputs": [
    {
     "name": "stdout",
     "output_type": "stream",
     "text": [
      "Me detengo!!!! Ya que 55 es mayor que el numero que definimos 50.\n"
     ]
    }
   ],
   "source": [
    "# usando break\n",
    "\n",
    "def busqueda_lista_anidada2(listas, valor):\n",
    "    for lista in listas:\n",
    "        for n in lista:\n",
    "            if n > valor:\n",
    "                print(f\"Me detengo!!!! Ya que {n} es mayor que el numero que definimos {valor}.\")\n",
    "                break # mata el bucle interno si encuentra el valor\n",
    "        else: \n",
    "            continue # si no encuentra el valor en el bulce interno, pasa el siguiente bucle \n",
    "        break  # mata el bucle externo si encontrol el valor\n",
    "\n",
    "busqueda_lista_anidada2(lista_de_listas, numero_mayor)"
   ]
  },
  {
   "cell_type": "markdown",
   "metadata": {},
   "source": [
    "## Ejercicio 9: Evaluación de series temporales\n",
    "\n",
    "Escribe un programa que recorra una lista de datos de series temporales y se detenga si encuentra un valor atípico (mayor a 100).\n"
   ]
  },
  {
   "cell_type": "code",
   "execution_count": 144,
   "metadata": {},
   "outputs": [
    {
     "name": "stdout",
     "output_type": "stream",
     "text": [
      "58\n",
      "71\n",
      "48\n",
      "101\n",
      "Me detengo!!!! Ya que 2024-01-01 es mayor que el numero que definimos 100.\n"
     ]
    }
   ],
   "source": [
    "serie_temporal = {\n",
    "    'dia': [('2024-01-01'),\n",
    "             ('2024-01-02'),\n",
    "             ('2024-01-03'),\n",
    "             ('2024-01-04'),\n",
    "             ('2024-01-05')],\n",
    "    'valor': [58, 71, 48, 101, 62]\n",
    "}\n",
    "#print(serie_temporal)\n",
    "valor_atipico = 100\n",
    "#para iterar el diccionario cogi ideas de aqui https://realpython.com/iterate-through-dictionary-python/ y aqui https://www.geeksforgeeks.org/python-extract-ith-element-of-k-keys-value/\n",
    "for value in serie_temporal.get('valor'):\n",
    "    print(value)\n",
    "    if value > valor_atipico:\n",
    "        print(f\"Me detengo!!!! Ya que {n} es mayor que el numero que definimos {valor_atipico}.\")\n",
    "        break"
   ]
  },
  {
   "cell_type": "markdown",
   "metadata": {},
   "source": [
    "## Ejercicio 10: Iteración con valores faltantes\n",
    "\n",
    "Crea un bucle que recorra una lista de datos de ventas y salte los valores faltantes representados por `None`."
   ]
  },
  {
   "cell_type": "code",
   "execution_count": 155,
   "metadata": {},
   "outputs": [
    {
     "name": "stdout",
     "output_type": "stream",
     "text": [
      "1\n",
      "22\n",
      "10\n",
      "45\n",
      "55\n",
      "59\n",
      "57\n",
      "43\n",
      "54\n",
      "40\n",
      "57\n",
      "49\n",
      "52\n"
     ]
    }
   ],
   "source": [
    "lista_de_listas = [1, 22, 10, 45, None, 55, 59, 57, None, 43, 54, 40, 57, 49, 52]\n",
    "\n",
    "for l in lista_de_listas:\n",
    "    if l != None:\n",
    "        print(l)\n",
    "        continue\n",
    "    if l == None:\n",
    "        pass"
   ]
  },
  {
   "cell_type": "markdown",
   "metadata": {},
   "source": [
    "## Ejercicio 11: Control de flujo en bucles anidados\n",
    "\n",
    "Escribe un bucle que recorra la matriz dada y se detenga si se encuentra un número negativo, mostrando su posición.\n",
    "\n"
   ]
  },
  {
   "cell_type": "code",
   "execution_count": 264,
   "metadata": {},
   "outputs": [
    {
     "name": "stdout",
     "output_type": "stream",
     "text": [
      "[7 5 7 0 6]\n"
     ]
    }
   ],
   "source": [
    "## inspiracion https://www.geeksforgeeks.org/how-to-find-the-index-of-value-in-numpy-array/\n",
    "\n",
    "matriz_aleatoria = np.random.randint(-10,10,(5))\n",
    "print(matriz_aleatoria)\n",
    "valor_limite = 0\n",
    "for v in matriz_aleatoria:\n",
    "    if v < valor_limite:\n",
    "        print(v)\n",
    "        index = np.where(matriz_aleatoria == v)\n",
    "        print(f'La posicion en la matriz es {index}')\n",
    "        break"
   ]
  },
  {
   "cell_type": "markdown",
   "metadata": {},
   "source": [
    "## Ejercicio 12: Placeholder para funciones incompletas\n",
    "\n",
    "Escribe una función que tenga un bloque de control que aún no esté implementado, utilizando `pass` para que no genere errores."
   ]
  },
  {
   "cell_type": "code",
   "execution_count": null,
   "metadata": {},
   "outputs": [],
   "source": [
    "# igual que el 4"
   ]
  }
 ],
 "metadata": {
  "kernelspec": {
   "display_name": "data_analytics_env",
   "language": "python",
   "name": "python3"
  },
  "language_info": {
   "codemirror_mode": {
    "name": "ipython",
    "version": 3
   },
   "file_extension": ".py",
   "mimetype": "text/x-python",
   "name": "python",
   "nbconvert_exporter": "python",
   "pygments_lexer": "ipython3",
   "version": "3.8.20"
  }
 },
 "nbformat": 4,
 "nbformat_minor": 2
}
