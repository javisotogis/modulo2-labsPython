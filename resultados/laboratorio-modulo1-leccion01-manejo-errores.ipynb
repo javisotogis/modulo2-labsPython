{
 "cells": [
  {
   "cell_type": "markdown",
   "metadata": {},
   "source": [
    "\n",
    "<div style=\"text-align: center;\">\n",
    "  <img src=\"https://github.com/Hack-io-Data/Imagenes/blob/main/01-LogosHackio/logo_celeste@4x.png?raw=true\" alt=\"esquema\" />\n",
    "</div>\n"
   ]
  },
  {
   "cell_type": "markdown",
   "metadata": {},
   "source": [
    "# Laboratorio de Python: manejo de errores."
   ]
  },
  {
   "cell_type": "markdown",
   "metadata": {},
   "source": [
    "## Ejercicio 1: División con manejo de excepciones\n",
    "\n",
    "Escribe un programa que pida al usuario dos números e intente dividirlos. Si el usuario ingresa un valor no numérico o intenta dividir por cero, maneja esas excepciones de manera adecuada. Asegúrate de mostrar un mensaje indicando si la división fue exitosa o no.\n"
   ]
  },
  {
   "cell_type": "code",
   "execution_count": 1,
   "metadata": {},
   "outputs": [
    {
     "name": "stdout",
     "output_type": "stream",
     "text": [
      "Resultado exitoso: 0.09259259259259259\n"
     ]
    }
   ],
   "source": [
    "import numpy as np\n",
    "\n",
    "#numerador = input(\"Escribe un numerador: \")\n",
    "#denominador = input(\"Escribe un denominador: \")\n",
    "\n",
    "numerador = 5\n",
    "denominador = 54\n",
    "\n",
    "def division(numerador, denominador):\n",
    "    try:\n",
    "        print(f\"Resultado exitoso: {numerador/denominador}\")\n",
    "    except ZeroDivisionError:\n",
    "        print('El denominador no puede ser 0')\n",
    "    except TypeError:\n",
    "        print('Tiene que ser un numero')\n",
    "\n",
    "division(numerador,denominador)"
   ]
  },
  {
   "cell_type": "markdown",
   "metadata": {},
   "source": [
    "## Ejercicio 2: Acceso a archivos\n",
    "\n",
    "Escribe un programa que intente abrir un archivo llamado \"datos.txt\". Si el archivo no existe, captura la excepción y muestra un mensaje de error. Asegúrate de cerrar el archivo correctamente en la sección `finally`.\n"
   ]
  },
  {
   "cell_type": "code",
   "execution_count": 44,
   "metadata": {},
   "outputs": [
    {
     "name": "stdout",
     "output_type": "stream",
     "text": [
      "No encuentro el archivo datos.txt\n",
      "No entiendo a que te refieres con lo de cerrar el archivo correctamente. Pero he encontrado esto https://www.w3schools.com/python/ref_file_close.asp#:~:text=The%20close()%20method%20closes,until%20you%20close%20the%20file.\n",
      "Archivo no encontrado\n"
     ]
    }
   ],
   "source": [
    "\n",
    "try:\n",
    "    archivo = open(\"datos.txt\", \"r\")\n",
    "    print(archivo)\n",
    "\n",
    "except FileNotFoundError:\n",
    "    print(\"No encuentro el archivo datos.txt\")\n",
    "\n",
    "except Exception as e:\n",
    "    print(e)\n",
    "\n",
    "finally:\n",
    "    print(\"No entiendo a que te refieres con lo de cerrar el archivo correctamente. Pero he encontrado esto https://www.w3schools.com/python/ref_file_close.asp#:~:text=The%20close()%20method%20closes,until%20you%20close%20the%20file.\")\n",
    "    try:\n",
    "       archivo.close()\n",
    "    except NameError:\n",
    "       print(\"Archivo no encontrado\")\n",
    "    \n",
    "\n"
   ]
  },
  {
   "cell_type": "markdown",
   "metadata": {},
   "source": [
    "## Ejercicio 3: Conversión de cadenas a enteros\n",
    "\n",
    "Escribe un programa que pida una lista de números separados por comas y convierta cada valor a un número entero. Maneja las excepciones para valores que no sean convertibles y asegúrate de informar si la conversión fue exitosa o no.\n"
   ]
  },
  {
   "cell_type": "code",
   "execution_count": 49,
   "metadata": {},
   "outputs": [
    {
     "name": "stdout",
     "output_type": "stream",
     "text": [
      "Valor 3.2 redondeado con exito a 3\n",
      "Valor 67.4 redondeado con exito a 67\n",
      "Valor 1.5 redondeado con exito a 2\n",
      "Valor 6 redondeado con exito a 6\n",
      "Valor 7.0000008 redondeado con exito a 7\n",
      "El valor a no es un numero, por lo que no se puede redondear\n"
     ]
    }
   ],
   "source": [
    "lista = [3.2,67.4,1.5,6,7.0000008,'a']\n",
    "\n",
    "for l in lista:\n",
    "    try:\n",
    "        print(f\"Valor {l} redondeado con exito a {round(l)}\")\n",
    "    except TypeError:\n",
    "        print(f\"El valor {l} no es un numero, por lo que no se puede redondear\")"
   ]
  },
  {
   "cell_type": "markdown",
   "metadata": {},
   "source": [
    "#### Ejercicio 4: Cálculo del promedio con manejo de excepciones\n",
    "\n",
    "Escribe una función que reciba una lista de números y calcule su promedio. Si la lista está vacía, lanza una excepción personalizada y maneja el error adecuadamente.\n"
   ]
  },
  {
   "cell_type": "code",
   "execution_count": null,
   "metadata": {},
   "outputs": [
    {
     "name": "stdout",
     "output_type": "stream",
     "text": [
      "La lista parece estar vacia\n"
     ]
    }
   ],
   "source": [
    "import statistics\n",
    "\n",
    "lista = [10,11,54,-8]\n",
    "n = 0\n",
    "\n",
    "def average_calculator(lista, n):\n",
    "\n",
    "    try:\n",
    "        for i in lista:\n",
    "            n = n + i\n",
    "            \n",
    "        print(n/len(lista))\n",
    "    except ZeroDivisionError:\n",
    "        print(\"La lista parece estar vacia\")\n",
    "\n",
    "\n",
    "lista = []\n",
    "average_calculator(lista, n)\n"
   ]
  },
  {
   "cell_type": "markdown",
   "metadata": {},
   "source": [
    "#### Ejercicio 5: Conversión segura de números\n",
    "\n",
    "Escribe un programa que convierta una cadena a número flotante e intente realizar una operación aritmética. Si la conversión falla, maneja la excepción y continúa con el flujo normal."
   ]
  },
  {
   "cell_type": "code",
   "execution_count": null,
   "metadata": {},
   "outputs": [
    {
     "name": "stdout",
     "output_type": "stream",
     "text": [
      "Ha habido un problema con el valor Ramon\n",
      "5.07\n"
     ]
    }
   ],
   "source": [
    "cadena = '3.58 5.24 Ramon 6.39'\n",
    "\n",
    "cadena = cadena.split(\" \")\n",
    "\n",
    "flotantes = []\n",
    "\n",
    "n = 0\n",
    "\n",
    "for c in cadena:\n",
    "\n",
    "    try:\n",
    "        flotantes.append(float(c))\n",
    "    except ValueError:\n",
    "        print(f\"Ha habido un problema con el valor {c} pero el programa se sigue ejecutando\")\n",
    "        continue\n",
    "\n",
    "def average_calculator(flotantes, n):\n",
    "\n",
    "    try:\n",
    "        for i in flotantes:\n",
    "            n = n + i\n",
    "            \n",
    "        print(n/len(flotantes))\n",
    "    except ZeroDivisionError:\n",
    "        print(\"La lista parece estar vacia\")\n",
    "\n",
    "average_calculator(flotantes, n)"
   ]
  },
  {
   "cell_type": "markdown",
   "metadata": {},
   "source": [
    "#### Ejercicio 6: Acceso a claves en diccionarios\n",
    "\n",
    "Escribe un programa que intente acceder a una clave específica en un diccionario. Si la clave no existe, maneja la excepción `KeyError` y muestra un mensaje indicando el problema."
   ]
  },
  {
   "cell_type": "code",
   "execution_count": null,
   "metadata": {},
   "outputs": [],
   "source": [
    "diccionario = {\n",
    "    \"arcoiris_cuántico\": \"Colorín colorado\",\n",
    "    \"42_hamsters_bailarines\": \"Ritmo infinito\",\n",
    "    \"pingüino_tostadora\": \"Pan crujiente\",\n",
    "    \"hipopótamo_enojado\": \"Río revuelto\",\n",
    "    \"nube_de_tocino\": \"Cielo delicioso\",\n",
    "    \"dragón_que_habla_morse\": \"... --- ...\",\n",
    "    \"patito_espacial\": \"Cuack intergaláctico\",\n",
    "    \"wifi_invisible\": \"Señal fantasma\",\n",
    "    \"cactus_volador\": \"Desierto aéreo\",\n",
    "    \"donut_viajero_en_el_tiempo\": \"Azúcar del futuro\"\n",
    "}\n",
    "\n",
    "clave = \"cactus_nadador\"\n",
    "\n",
    "try:\n",
    "    diccionario.get(clave)\n",
    "except None:\n",
    "    print(\"La clave {clave} no existe. Intenta otra clave diferente\") ## este metodo usando get no parece funcionar con try expect. tendria que espeficamente buscar el None\n",
    "\n"
   ]
  },
  {
   "cell_type": "code",
   "execution_count": null,
   "metadata": {},
   "outputs": [
    {
     "data": {
      "text/plain": [
       "False"
      ]
     },
     "execution_count": 110,
     "metadata": {},
     "output_type": "execute_result"
    }
   ],
   "source": [
    "# Metodo 2\n",
    "\n",
    "diccionario = {\n",
    "    \"arcoiris_cuántico\": \"Colorín colorado\",\n",
    "    \"42_hamsters_bailarines\": \"Ritmo infinito\",\n",
    "    \"pingüino_tostadora\": \"Pan crujiente\",\n",
    "    \"hipopótamo_enojado\": \"Río revuelto\",\n",
    "    \"nube_de_tocino\": \"Cielo delicioso\",\n",
    "    \"dragón_que_habla_morse\": \"... --- ...\",\n",
    "    \"patito_espacial\": \"Cuack intergaláctico\",\n",
    "    \"wifi_invisible\": \"Señal fantasma\",\n",
    "    \"cactus_volador\": \"Desierto aéreo\",\n",
    "    \"donut_viajero_en_el_tiempo\": \"Azúcar del futuro\"\n",
    "}\n",
    "\n",
    "clave = \"cactus_nadador\"\n",
    "\n",
    "test = clave in diccionario\n",
    "\n",
    "test\n",
    "\n",
    "## no veo como usar aqui try except ya que no lanza ningun error. Podria usar IF para capturar el FALSE o el None si uso get.\n"
   ]
  },
  {
   "cell_type": "markdown",
   "metadata": {},
   "source": [
    "\n",
    "#### Ejercicio 7: Verificación de entradas de usuario\n",
    "\n",
    "Escribe un programa que pida al usuario que introduzca su edad. Si el usuario ingresa un valor no numérico o un valor fuera del rango esperado (por ejemplo, menor que 0 o mayor que 120), maneja las excepciones adecuadamente."
   ]
  },
  {
   "cell_type": "code",
   "execution_count": 1,
   "metadata": {},
   "outputs": [
    {
     "name": "stdout",
     "output_type": "stream",
     "text": [
      "Has escrito 'a' pero no es un valor valido para la edad\n"
     ]
    }
   ],
   "source": [
    "edad = 'a'\n",
    "\n",
    "try:\n",
    "    if edad > 0 and edad < 120:\n",
    "        print(\"La edad esta dentro del rango valido.\")\n",
    "    else:\n",
    "        print(\"La edad debe estar entre 0 y 120\")\n",
    "except TypeError:\n",
    "    print(f\"Has escrito '{edad}' pero no es un valor valido para la edad\")\n",
    "except Exception as e:\n",
    "    print(f\"Ha ocurrido un error inesperado:{e}\")\n",
    "\n"
   ]
  },
  {
   "cell_type": "markdown",
   "metadata": {},
   "source": [
    "#### Ejercicio 8: Extracción de valores de una lista\n",
    "\n",
    "Escribe una función que intente acceder a un índice específico en una lista. Si el índice está fuera del rango, maneja la excepción `IndexError` y muestra un mensaje adecuado.\n"
   ]
  },
  {
   "cell_type": "code",
   "execution_count": 133,
   "metadata": {},
   "outputs": [
    {
     "data": {
      "text/plain": [
       "'futilidad'"
      ]
     },
     "execution_count": 133,
     "metadata": {},
     "output_type": "execute_result"
    }
   ],
   "source": [
    "palabras_extranas = [\n",
    "    \"serendipia\",       # Descubrimiento afortunado e inesperado\n",
    "    \"sesquipedalio\",    # Palabra extremadamente larga\n",
    "    \"hipopotomonstrosesquipedaliofobia\",  # Miedo a las palabras largas\n",
    "    \"enantiómorfo\",     # Algo que es la imagen especular de otra cosa\n",
    "    \"lapislázuli\",      # Piedra semipreciosa azul\n",
    "    \"clepsidra\",        # Reloj de agua usado en la antigüedad\n",
    "    \"efímero\",          # Algo que dura poco tiempo\n",
    "    \"acendrado\",        # Algo puro o sin mancha\n",
    "    \"apócope\",          # Supresión de sonidos al final de una palabra\n",
    "    \"futilidad\"         # Algo que carece de utilidad o importancia\n",
    "]\n",
    "\n",
    "def idenxer2024(index_value):\n",
    "    try:\n",
    "        palabra = palabras_extranas[index_value]\n",
    "        return palabra\n",
    "    except IndexError:\n",
    "        print(f\"El indice {index_value} que has introducido no es valido porque la lista tiene una logitod de {len(palabras_extranas)}\")\n",
    "\n",
    "\n",
    "idenxer2024(index_value=9)\n"
   ]
  }
 ],
 "metadata": {
  "kernelspec": {
   "display_name": "data_analytics_env",
   "language": "python",
   "name": "python3"
  },
  "language_info": {
   "codemirror_mode": {
    "name": "ipython",
    "version": 3
   },
   "file_extension": ".py",
   "mimetype": "text/x-python",
   "name": "python",
   "nbconvert_exporter": "python",
   "pygments_lexer": "ipython3",
   "version": "3.8.20"
  }
 },
 "nbformat": 4,
 "nbformat_minor": 2
}
